{
 "cells": [
  {
   "cell_type": "code",
   "execution_count": 1,
   "metadata": {},
   "outputs": [],
   "source": [
    "import random\n",
    "import math"
   ]
  },
  {
   "cell_type": "code",
   "execution_count": null,
   "metadata": {},
   "outputs": [],
   "source": [
    "\"\"\"\n",
    "Create_Solvable_State: Creates a dim x dim solvable matrix represented as an array\n",
    "    Param:\n",
    "        dim (int > 0): The size of the matrix\n",
    "    Return\n",
    "        nums (list(int))\n",
    "\"\"\"\n",
    "def create_solvable_state(dim):\n",
    "\n",
    "    length = dim**2 \n",
    "\n",
    "    while(1):\n",
    "\n",
    "        #Randomly sort numbers\n",
    "        nums = random.shuffle(list(range(1, length)))\n",
    "\n",
    "        #Add Blank at a random location\n",
    "        nums.insert(random.randint(0, len(nums)), -1)\n",
    "\n",
    "        #Ensure Solvable\n",
    "        inversions = sum(1 for i in range(length) for j in range(i+1, length) if nums[i] > nums[j])\n",
    "        if inversions % 2:\n",
    "            continue  #Not Solvable\n",
    "        else:\n",
    "            return nums  # Solvable\n",
    "\n",
    "\"\"\" \n",
    "Print_State: Prints a visualization of state in matrix form, With 0 Replaced with \"__\"\n",
    "    Param:\n",
    "        num (list(int)): the current state\n",
    "    Effects:\n",
    "        prints to console\n",
    "\"\"\"\n",
    "def print_state(nums):\n",
    "    dim = int(len(nums) ** 0.5)\n",
    "\n",
    "    for i in range(0, len(nums), dim):\n",
    "        #TODO: setup column padding\n",
    "        row = ['__' if x == -1 else x for x in nums[i:i+dim]]\n",
    "        print(row)\n",
    "\n",
    "\"\"\"\n",
    "H1: Returns the first heuristic for given state: the count of numbers in correct positions\n",
    "    Param:\n",
    "        nums: (list(int)): the current state\n",
    "    Returns:\n",
    "        c: (int)\n",
    "\"\"\"\n",
    "def h1(nums):\n",
    "    \n",
    "    c = len(nums) - 1\n",
    "    for i, num in enumerate(nums):\n",
    "        if i == nums[i]: c-=1\n",
    "    return c\n",
    "\n",
    "\"\"\"\n",
    "H2: Returns the second heuristic for given state: Manhatten distance from correct solution\n",
    "    Param:\n",
    "        nums: (list(int)): the current state\n",
    "    Returns:\n",
    "        d: (int)\n",
    "\"\"\"\n",
    "def h2(nums):\n",
    "    dim = int(len(nums) ** 0.5)\n",
    "    d = 0\n",
    "    for i, num in enumerate(nums):\n",
    "        if num == -1: continue\n",
    "\n",
    "        #Distance\n",
    "        x = abs(i % dim - num % dim) \n",
    "        y = abs(int(i/dim) - int(num/dim))\n",
    "\n",
    "        d += (x + y)\n",
    "    return d\n",
    "\n",
    "\n",
    "#TODO:\n",
    "#Build H3 (Question Specific?) Heuristic Functions\n",
    "#Build n-Solve functions "
   ]
  },
  {
   "cell_type": "code",
   "execution_count": 3,
   "metadata": {},
   "outputs": [],
   "source": [
    "\"\"\"\n",
    "Measure_N_Solvable_States: Returns information about requirements to solve a given size problem\n",
    "    Param:\n",
    "        n (int): The number of problems to solve\n",
    "        dim (int): The size of matrix\n",
    "        heuristic (function(list(int)) -> int): The heuristic used to solve\n",
    "    Return:\n",
    "        steps (list(int)): The number of steps required to solve\n",
    "        nodes (list(int)): The number of nodes expanded in process\n",
    "\"\"\"\n",
    "def measure_n_solvable_states(n, dim, heuristic):\n",
    "    steps, nodes = [], []\n",
    "   \n",
    "    while(n):\n",
    "        #s, n = ...  #TODO IMPLEMENT SOLVE FUNCTION\n",
    "        #steps.append(s)\n",
    "        #nodes.append(n)\n",
    "        n-=1\n",
    "\n",
    "    return steps, nodes"
   ]
  },
  {
   "cell_type": "code",
   "execution_count": 4,
   "metadata": {},
   "outputs": [
    {
     "name": "stdout",
     "output_type": "stream",
     "text": [
      "[7, 2, 4]\n",
      "[5, '__', 6]\n",
      "[8, 3, 1]\n",
      "8\n",
      "18\n"
     ]
    },
    {
     "data": {
      "text/plain": [
       "([], [])"
      ]
     },
     "execution_count": 4,
     "metadata": {},
     "output_type": "execute_result"
    }
   ],
   "source": [
    "dim = 3\n",
    "#nums = create_solvable_state(dim)  #random valid example\n",
    "nums = [7,2,4,5,-1,6,8,3,1]  #in-class example\n",
    "\n",
    "print_state(nums)\n",
    "print(h1(nums))\n",
    "print(h2(nums))\n",
    "\n",
    "#From here for each question, run for each heuristic to see effectiveness over 100 runs\n",
    "measure_n_solvable_states(n=100, dim=..., heuristic=...)"
   ]
  },
  {
   "cell_type": "code",
   "execution_count": null,
   "metadata": {},
   "outputs": [],
   "source": []
  }
 ],
 "metadata": {
  "kernelspec": {
   "display_name": "Python 3",
   "language": "python",
   "name": "python3"
  },
  "language_info": {
   "codemirror_mode": {
    "name": "ipython",
    "version": 3
   },
   "file_extension": ".py",
   "mimetype": "text/x-python",
   "name": "python",
   "nbconvert_exporter": "python",
   "pygments_lexer": "ipython3",
   "version": "3.11.5"
  }
 },
 "nbformat": 4,
 "nbformat_minor": 2
}
