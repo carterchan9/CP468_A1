{
 "cells": [
  {
   "cell_type": "code",
   "execution_count": 306,
   "metadata": {},
   "outputs": [],
   "source": [
    "import random\n",
    "import math"
   ]
  },
  {
   "cell_type": "code",
   "execution_count": 309,
   "metadata": {},
   "outputs": [],
   "source": [
    "#Returns A Solvable State\n",
    "def create_solvable_state(dim):\n",
    "    #Count of Numbers to Sort\n",
    "    ns = dim**2 \n",
    "    #Ensure A Valid Solution\n",
    "    while(1):\n",
    "        #Randomly sort numbers\n",
    "        nums = list(range(1, ns))  \n",
    "        random.shuffle(nums)\n",
    "        #Add Blank at a random location\n",
    "        i = random.randint(0, len(nums))\n",
    "        nums.insert(i, -1)\n",
    "        #Ensure Solvable\n",
    "        inversions = sum(1 for i in range(ns) for j in range(i+1, ns) if nums[i] > nums[j])\n",
    "        if inversions % 2:\n",
    "            continue\n",
    "        else:\n",
    "            return nums\n",
    "\n",
    "#Prints Visual Of State (dim x dim)\n",
    "def print_state(nums):\n",
    "    dim = int(len(nums) ** 0.5)\n",
    "    for i in range(0, len(nums), dim):\n",
    "        #Prints Empty as Underscore\n",
    "        row = ['__' if x == -1 else x for x in nums[i:i+dim]]\n",
    "        print(row)\n",
    "\n",
    "#Determines Heuristic 1\n",
    "def h1(nums):\n",
    "    #Assume none in correct position\n",
    "    c = len(nums) - 1\n",
    "    for i, num in enumerate(nums):\n",
    "        #If one is, subtract from total\n",
    "        if i == nums[i]: c-=1\n",
    "    return c\n",
    "\n",
    "#Determines Heuristic 2\n",
    "def h2(nums):\n",
    "    dim = int(len(nums) ** 0.5)\n",
    "    d = 0\n",
    "    for i, num in enumerate(nums):\n",
    "        if num == -1: continue\n",
    "        #Distance\n",
    "        x = abs(i % dim - num % dim) \n",
    "        y = abs(int(i/dim) - int(num/dim))\n",
    "        d += (x + y)\n",
    "    return d\n",
    "\n",
    "\n",
    "#TODO:\n",
    "\n",
    "#Build H3 (Question Specific?) Heuristic Functions\n",
    "\n",
    "#Build n-Solve functions "
   ]
  },
  {
   "cell_type": "code",
   "execution_count": 323,
   "metadata": {},
   "outputs": [],
   "source": [
    "def measure_n_solvable_states(n, dim, heuristic):\n",
    "    steps, nodes = [], []\n",
    "   \n",
    "    while(n):\n",
    "        #s, n = ...  #NEED TO IMPLEMENT SOLVE FUNCTION\n",
    "        #steps.append(s)\n",
    "        #nodes.append(n)\n",
    "        n-=1\n",
    "\n",
    "    return steps, nodes"
   ]
  },
  {
   "cell_type": "code",
   "execution_count": 324,
   "metadata": {},
   "outputs": [
    {
     "name": "stdout",
     "output_type": "stream",
     "text": [
      "[7, 2, 4]\n",
      "[5, '__', 6]\n",
      "[8, 3, 1]\n",
      "8\n",
      "18\n"
     ]
    },
    {
     "data": {
      "text/plain": [
       "([], [])"
      ]
     },
     "execution_count": 324,
     "metadata": {},
     "output_type": "execute_result"
    }
   ],
   "source": [
    "dim = 3\n",
    "#nums = create_solvable_state(dim)  #random valid example\n",
    "nums = [7,2,4,5,-1,6,8,3,1]  #in-class example\n",
    "\n",
    "print_state(nums)\n",
    "print(h1(nums))\n",
    "print(h2(nums))\n",
    "\n",
    "#From here for each question, run for each heuristic to see effectiveness over 100 runs\n",
    "measure_n_solvable_states(n=100, dim=..., heuristic=...)"
   ]
  }
 ],
 "metadata": {
  "kernelspec": {
   "display_name": "Python 3",
   "language": "python",
   "name": "python3"
  },
  "language_info": {
   "codemirror_mode": {
    "name": "ipython",
    "version": 3
   },
   "file_extension": ".py",
   "mimetype": "text/x-python",
   "name": "python",
   "nbconvert_exporter": "python",
   "pygments_lexer": "ipython3",
   "version": "3.11.5"
  }
 },
 "nbformat": 4,
 "nbformat_minor": 2
}
